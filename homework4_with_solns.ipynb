{
  "cells": [
    {
      "cell_type": "markdown",
      "metadata": {
        "id": "9bQsloesFHsf"
      },
      "source": [
        "First, download this notebook and upload it to your Google Drive. Once it's in your Google Drive, you can open it with Google Colab. Write your code in Google Colab. When you're done, download the notebook from Google Colab and upload it to GitHub. This is exactly what you did in the previous assignment."
      ]
    },
    {
      "cell_type": "markdown",
      "metadata": {
        "id": "6uHz9iLRFHsg"
      },
      "source": [
        "# HW4 : Even More Python Exercises!\n",
        "\n",
        "Hi everyone! Welcome to the fourth homework assignment. This assignment contains more Python exercises – shocking(!) You will practice with basic plotting and writing many functions, and it will be a whole lot of fun. Let's get started!"
      ]
    },
    {
      "cell_type": "markdown",
      "metadata": {
        "id": "Z0zz7e4sFHsg"
      },
      "source": [
        "## Part 0: Plotting\n",
        "\n",
        "In this section, you will practice plotting using the `matplotlib` library. You will also practice using `numpy` arrays.\n",
        "\n",
        "### Problem 0: Basic Plotting\n",
        "\n",
        "In this problem, you will plot the function f(x) = x^2 for x in the range [-10, 10].\n",
        "\n",
        "First, import the `matplotlib.pyplot` library as `plt`. Then, use the `linspace` function from the `numpy` library to create an array of 100 points between -10 and 10. Finally, plot the function f(x) = x^2 for x in the range [-10, 10]."
      ]
    },
    {
      "cell_type": "code",
      "execution_count": 5,
      "metadata": {
        "colab": {
          "base_uri": "https://localhost:8080/",
          "height": 447
        },
        "id": "ZkiPA9ljFHsh",
        "outputId": "5f24a4c0-4332-475d-8a47-c84f59d9aa49"
      },
      "outputs": [
        {
          "output_type": "execute_result",
          "data": {
            "text/plain": [
              "[<matplotlib.lines.Line2D at 0x781c1b1e3790>]"
            ]
          },
          "metadata": {},
          "execution_count": 5
        },
        {
          "output_type": "display_data",
          "data": {
            "text/plain": [
              "<Figure size 640x480 with 1 Axes>"
            ],
            "image/png": "[encoded data removed]"
          },
          "metadata": {}
        }
      ],
      "source": [
        "# Implement your code for Problem 0 in this cell.\n",
        "\n",
        "import matplotlib.pyplot as plt\n",
        "import numpy as np\n",
        "\n",
        "pts = np.linspace(-10, 10, 100)\n",
        "plt.plot(pts, pts**2)"
      ]
    },
    {
      "cell_type": "markdown",
      "metadata": {
        "id": "mLxlSz_uFHsh"
      },
      "source": [
        "## Part 1: Functions\n",
        "\n",
        "Functions are a great way to organize computations. They allow you to break down a large problem into smaller, more manageable pieces. Functions also allow you to reuse code. If you find yourself writing the same code over and over again, you should consider writing a function.\n",
        "\n",
        "One fun thing about functions is that they can call themselves (recursion) and other functions. Recursion is a powerful technique that allows you to solve complex problems. In this section, you will practice writing recursive functions."
      ]
    },
    {
      "cell_type": "markdown",
      "metadata": {
        "id": "ifLpAljrFHsh"
      },
      "source": [
        "### Problem 1: Palindrome\n",
        "\n",
        "Write a function called `is_palindrome` that takes in a string `s` and returns `True` if `s` is a palindrome and `False` otherwise.\n",
        "\n",
        "A palindrome is a string that is the same forwards and backwards. For example, \"racecar\" is a palindrome.\n",
        "\n",
        "Your function should be able to call itself to check if the string is a palindrome. You should not use a loop to solve this problem.\n",
        "\n",
        "Once you have your function, call it to check if \"racecar\" is a palindrome. Bonus \"imaginary points\" if you can figure out how to check if \"Racecar\" is a palindrome."
      ]
    },
    {
      "cell_type": "code",
      "execution_count": 8,
      "metadata": {
        "colab": {
          "base_uri": "https://localhost:8080/"
        },
        "id": "WRoV3a1hFHsi",
        "outputId": "d9f8823c-a35e-4e29-d01b-f539f5346588"
      },
      "outputs": [
        {
          "output_type": "stream",
          "name": "stdout",
          "text": [
            "True\n",
            "False\n"
          ]
        }
      ],
      "source": [
        "# Implement your code for Problem 1 in this cell.\n",
        "\n",
        "def is_palindrome(s):\n",
        "  if s == s[::-1]:\n",
        "    return True\n",
        "  else:\n",
        "    return False\n",
        "\n",
        "#testing\n",
        "print(is_palindrome(\"racecar\"))\n",
        "print(is_palindrome(\"idk\"))"
      ]
    },
    {
      "cell_type": "markdown",
      "metadata": {
        "id": "9jaRCLUSFHsi"
      },
      "source": [
        "### Problem 2: Factorial\n",
        "\n",
        "Write a function called `factorial` that takes in an integer `n` and returns the factorial of `n`.\n",
        "\n",
        "The factorial of a number is given by the recurrence relation:\n",
        "n! = n * (n-1)!\n",
        "\n",
        "The base case is 0! = 1.\n",
        "\n",
        "Your function should be able to call itself to compute the factorial of `n`. You should not use a loop to solve this problem.\n",
        "\n",
        "Once you have your function, call it to compute the factorial of 10."
      ]
    },
    {
      "cell_type": "code",
      "execution_count": 10,
      "metadata": {
        "colab": {
          "base_uri": "https://localhost:8080/"
        },
        "id": "hgFdEtPuFHsi",
        "outputId": "c40aecc8-fbc2-40d9-8a3e-fd884abea530"
      },
      "outputs": [
        {
          "output_type": "execute_result",
          "data": {
            "text/plain": [
              "120"
            ]
          },
          "metadata": {},
          "execution_count": 10
        }
      ],
      "source": [
        "# Implement your code for Problem 2 in this cell.\n",
        "\n",
        "def factorial(n):\n",
        "  if n == 0:\n",
        "    return 1\n",
        "  else:\n",
        "    return n * factorial(n-1)\n",
        "\n",
        "#testing\n",
        "factorial(5)"
      ]
    },
    {
      "cell_type": "markdown",
      "metadata": {
        "id": "CawySHcuFHsi"
      },
      "source": [
        "### Problem 3: Fibonacci Sequence\n",
        "\n",
        "Write a function called `fibonacci` that takes in an integer `n` and returns the `n`th number in the Fibonacci sequence.\n",
        "\n",
        "The Fibonacci sequence is given by the recurrence relation:\n",
        "F(n) = F(n-1) + F(n-2)\n",
        "\n",
        "The first two numbers in the sequence are 0 and 1. That is, F(0) = 0 and F(1) = 1.\n",
        "\n",
        "Your function should be able to call itself to compute the `n`th number in the sequence. You should not use a loop to solve this problem.\n",
        "\n",
        "**Hint:** You will need to use an `if` statement to handle the base cases (n = 0 and n = 1).\n",
        "\n",
        "Once you have your function, call it to compute the 10th number in the sequence."
      ]
    },
    {
      "cell_type": "code",
      "execution_count": 13,
      "metadata": {
        "colab": {
          "base_uri": "https://localhost:8080/"
        },
        "id": "_iijMO4NFHsj",
        "outputId": "e6185f7c-3b36-4ed7-a3b4-b2f7d357cd84"
      },
      "outputs": [
        {
          "output_type": "execute_result",
          "data": {
            "text/plain": [
              "233"
            ]
          },
          "metadata": {},
          "execution_count": 13
        }
      ],
      "source": [
        "# Implement your code for Problem 3 in this cell.\n",
        "\n",
        "def fibonacci(n):\n",
        "  if n == 0:\n",
        "    return 0\n",
        "  elif n == 1:\n",
        "    return 1\n",
        "  else:\n",
        "    return fibonacci(n - 1) + fibonacci(n-2)\n",
        "\n",
        "#testing\n",
        "fibonacci(13) #looks good"
      ]
    },
    {
      "cell_type": "markdown",
      "metadata": {
        "id": "8k2CQNLzFHsj"
      },
      "source": [
        "### Problem 3.5: Timed Fibonacci\n",
        "\n",
        "In this problem, you will plot the time it takes to compute the `n`th number in the Fibonacci sequence for `n` in the range [0, 30].\n",
        "\n",
        "First, import the `time` library. Then, create an empty list called `times`. Next, use a `for` loop to compute the `n`th number in the Fibonacci sequence for `n` in the range [0, 30]. For each `n`, compute the time it takes to compute the `n`th number in the Fibonacci sequence. Append this time to the `times` list. Finally, plot the time it takes to compute the `n`th number in the Fibonacci sequence for `n` in the range [0, 30].\n",
        "\n",
        "**Hint:** You will need to use the `time.time()` function to compute the time it takes to compute the `n`th number in the Fibonacci sequence. You will also need to use the `append` function to append the time to the `times` list."
      ]
    },
    {
      "cell_type": "code",
      "execution_count": 15,
      "metadata": {
        "colab": {
          "base_uri": "https://localhost:8080/",
          "height": 447
        },
        "id": "5ZunRtsgFHsj",
        "outputId": "7eb06ac6-917c-43ce-e9f4-9cb3a61970fb"
      },
      "outputs": [
        {
          "output_type": "execute_result",
          "data": {
            "text/plain": [
              "[<matplotlib.lines.Line2D at 0x781c0f0fdc00>]"
            ]
          },
          "metadata": {},
          "execution_count": 15
        },
        {
          "output_type": "display_data",
          "data": {
            "text/plain": [
              "<Figure size 640x480 with 1 Axes>"
            ],
            "image/png": "[encoded data removed]"
          },
          "metadata": {}
        }
      ],
      "source": [
        "# Implement your code for Problem 3.5 in this cell.\n",
        "\n",
        "import time\n",
        "\n",
        "times = []\n",
        "for n in range(0,30):\n",
        "  start = time.time()\n",
        "  fibonacci(n)\n",
        "  end = time.time()\n",
        "  times.append(end - start)\n",
        "\n",
        "plt.plot(range(0,30), times)"
      ]
    }
  ],
  "metadata": {
    "kernelspec": {
      "display_name": "Python 3",
      "language": "python",
      "name": "python3"
    },
    "language_info": {
      "codemirror_mode": {
        "name": "ipython",
        "version": 3
      },
      "file_extension": ".py",
      "mimetype": "text/x-python",
      "name": "python",
      "nbconvert_exporter": "python",
      "pygments_lexer": "ipython3",
      "version": "3.10.6"
    },
    "orig_nbformat": 4,
    "colab": {
      "provenance": []
    }
  },
  "nbformat": 4,
  "nbformat_minor": 0
}